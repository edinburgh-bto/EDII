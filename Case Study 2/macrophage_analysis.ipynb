{
 "cells": [
  {
   "cell_type": "markdown",
   "id": "9526fd45",
   "metadata": {},
   "source": [
    "# Are the half-lives of small and large intestine macrophage subpopulations different and what are they?"
   ]
  },
  {
   "cell_type": "markdown",
   "id": "bd61b1d5",
   "metadata": {},
   "source": [
    "Administration of tamoxifen allows translocation of the cre enzyme into the nucleus and irreversibly induces YFP expression by CX3CR1+ cells, strongly labeling CX3CR1+ gut macrophages. Adult animals 8–9 wk of age were given tamoxifen orally for five consecutive days to ensure robust and irreversible induction of YFP. Any cells developing from blood monocytes after withdrawal of tamoxifen will express the cre enzyme latently in the cytoplasm such that they remain YFP– (Shaw et al. 2018).\n",
    "\n",
    "YFP+ blood monocytes are replaced rapidly by YFP- monocytes from the bone marrow.\n",
    "As the resident YFP+ macrophages are depleted from the gut, they will be replaced by YFP- macrophages developing from YFP- blood monocytes. \n",
    "\n",
    "The proportion of cells of each subpopulation expressing YFP have been measured over 20 weeks. By fitting a model to their decay curves we can estimate the rate at which each is depleted from the gut, and by a simple transformation, estimate their half-lives.  \n",
    "\n",
    "Starting with the small intestine, determine if the decay rates of the three subpopulations of macrophages differ significantly, estimate their decay rates (including 95% confidence intervals), and estimate their half-lives. \n",
    "\n",
    "The data are in the file `Data/yfp_SI.csv`."
   ]
  },
  {
   "cell_type": "markdown",
   "id": "a3f92fd9",
   "metadata": {},
   "source": [
    "### Import plotting and analysis modules\n",
    "\n",
    "Make sure to run this code cell to import the necessary modules"
   ]
  },
  {
   "cell_type": "code",
   "execution_count": null,
   "id": "6be0f001",
   "metadata": {},
   "outputs": [],
   "source": [
    "import pandas as pd\n",
    "import seaborn as sns\n",
    "from numpy import log\n",
    "from statsmodels.formula.api import ols"
   ]
  },
  {
   "cell_type": "markdown",
   "id": "dc6b23fa",
   "metadata": {},
   "source": [
    "### Read in the YFP data for small intestine and print it to see what it looks like"
   ]
  },
  {
   "cell_type": "code",
   "execution_count": null,
   "id": "08a3cae9",
   "metadata": {},
   "outputs": [],
   "source": []
  },
  {
   "cell_type": "markdown",
   "id": "c18695a3",
   "metadata": {},
   "source": [
    "There are five headers in the dataset:\n",
    "\n",
    "- **intestine**: small or large intestine\n",
    "- **cell_type**: cell type, one of CD4- Tim4-, CD4+ Tim4- and CD4+ Tim4+\n",
    "- **week**: weeks post tamoxifen treatment\n",
    "- **mouse**: mouse ID\n",
    "- **yfp**: the proportion of that cell type expressing YFP"
   ]
  },
  {
   "cell_type": "markdown",
   "id": "0bb7881b",
   "metadata": {},
   "source": [
    "## Plot the data of all cell types"
   ]
  },
  {
   "cell_type": "markdown",
   "id": "17f33ac4",
   "metadata": {},
   "source": [
    "Next plot the untransformed data as line and scatter plots. This is a first check of the data to see what it looks like.\n",
    "\n",
    "It's okay to copy, paste and adapt the code from the lecture notebook. Click [here](lecture.ipynb#now-compare-drugs-A-and-B) to go to the correct code cell."
   ]
  },
  {
   "cell_type": "code",
   "execution_count": null,
   "id": "5b531f6e",
   "metadata": {},
   "outputs": [],
   "source": []
  },
  {
   "cell_type": "markdown",
   "id": "deeb4712",
   "metadata": {},
   "source": [
    "## Eye-ball the data and think what it means"
   ]
  },
  {
   "cell_type": "markdown",
   "id": "a4f9a230",
   "metadata": {},
   "source": [
    "Before proceeding with the formal analysis, have a look at these data closely and think about what's happening. Here are some things to think about.\n",
    "\n",
    "1. Which cell types are decaying faster and which slower?\n",
    "2. Are some cell types decaying at the same rate?\n",
    "3. Can you take a guess at the half-lives?\n",
    "4. Why don't the curves all start at 1 (i.e., 100% of each cell type expressing YFP)?\n",
    "5. Do you think these curves exhibit exponential decay?"
   ]
  },
  {
   "cell_type": "markdown",
   "id": "38f73134",
   "metadata": {},
   "source": [
    "## Do small intestine macrophages decay exponentially? "
   ]
  },
  {
   "cell_type": "markdown",
   "id": "1ae4c095",
   "metadata": {},
   "source": [
    "The next thing to check is that the YFP+ macrophage subpopulations are actually decaying exponentially. \n",
    "\n",
    "Remember from the lecture that to do this you have to log-transform the response variable (i.e., the proportion of YFP+ cells) and plot against time.\n",
    "\n",
    "Again, it's okay to copy, paste and adapt the code from the lecture notebook."
   ]
  },
  {
   "cell_type": "code",
   "execution_count": null,
   "id": "ca1e6f26",
   "metadata": {},
   "outputs": [],
   "source": []
  },
  {
   "cell_type": "markdown",
   "id": "ce77c7e3",
   "metadata": {},
   "source": [
    "Does this look like exponential decay?"
   ]
  },
  {
   "cell_type": "markdown",
   "id": "ffd0c86b",
   "metadata": {},
   "source": [
    "## Fit a linear model"
   ]
  },
  {
   "cell_type": "markdown",
   "id": "306d3b9e",
   "metadata": {},
   "source": [
    "Having convinced yourself that YFP+ macrophages decay exponentially, you need to fit a linear model to the data to:\n",
    "\n",
    "1. Estimate decay rates\n",
    "2. Test if cell types differ significantly in their decay rates"
   ]
  },
  {
   "cell_type": "code",
   "execution_count": null,
   "id": "f6371dde",
   "metadata": {},
   "outputs": [],
   "source": []
  },
  {
   "cell_type": "markdown",
   "id": "ca395ca6",
   "metadata": {},
   "source": [
    "## Think about the output of the linear model\n",
    "\n",
    "Make sure you understand the output of the linear model. Each row corresponds to an estimated model parameter and a statistical test (a *t*-test) of whether that estimate is significantly different from zero.\n",
    "\n",
    "\n",
    "\n",
    "Column name | Description\n",
    ":-- | :--\n",
    "column 1 | The name of the parameter being estimated\n",
    "coef | The estimated mean of that parameter\n",
    "std err | The uncertainty in the estimated mean\n",
    "t | The *t*-statistic (\"coef\" divided by \"std err\") \n",
    "P>t | The probability (*p*-value) of obtaining a *t*-statistic at least as extreme as observed assuming that the parameter is actually zero\n",
    "[0.025 0.975] | The 95% confidence interval of the estimated mean\n",
    "\n",
    "If the 95% CI contains zero, then the *p*-value will be greater than 0.05, and \"Intercept\" is not significantly different from zero.\n",
    "\n",
    "On the other hand, if the 95% CI does not contain zero, then the *p*-value will be less than 0.05, and \"Intercept\" is significantly different from zero.\n",
    "\n",
    "Note that standard error and 95% CI are both measures of uncertainty in the estimated parameter value. Either or both can be reported, but at least one should be to indicate how certain - or uncertain - you are in its value.\n",
    "\n",
    "The model parameters describe the straight lines in the log-linear plot of log-proportion of YFP+ cells against time. You need two pieces of information to describe a straight line: the *y*-intercept where the line crosses the *y*-axis, and the slope (or gradient) of the line. There are three lines in your log-linear plot corresponding to your three cell types. Therefore, there are six parameters in total to estimate and therefore six rows in the output summary of the linear model. \n",
    "\n",
    "See if you can answer the following questions.\n",
    "\n",
    "1. Which rows are *y*-intercept parameters?\n",
    "2. Which rows are slope parameters?\n",
    "3. What is the reference cell type?\n",
    "4. Which rows correspond to the reference cell type?\n",
    "5. Which rows are estimates of the differences between a cell type and the reference cell type?"
   ]
  },
  {
   "cell_type": "markdown",
   "id": "b7c34d0c",
   "metadata": {},
   "source": [
    "## Check the fit of the model by looking at the residuals"
   ]
  },
  {
   "cell_type": "markdown",
   "id": "ff9541e8",
   "metadata": {},
   "source": [
    "Always check the residuals against the explanatory variables to make sure they do not show any structure. If they do you are probably fitting the wrong model."
   ]
  },
  {
   "cell_type": "code",
   "execution_count": null,
   "id": "9ea0d73c",
   "metadata": {},
   "outputs": [],
   "source": []
  },
  {
   "cell_type": "code",
   "execution_count": null,
   "id": "d0c76d72",
   "metadata": {},
   "outputs": [],
   "source": []
  },
  {
   "cell_type": "markdown",
   "id": "98621ad9",
   "metadata": {},
   "source": [
    "What do you conclude about the model fit?"
   ]
  },
  {
   "cell_type": "markdown",
   "id": "a3b01097",
   "metadata": {},
   "source": [
    "Residuals against week look okay. They are spread between -2 and +2 as we would expect and there is no major trend or deviation across weeks.\n",
    "\n",
    "Residuals against cell type are okay for CD4- Tim4- and CD4+ Tim4- cells. However, the residuals for CD4+ Tim4+ have a narrower distribution between -1 and +1. This is probably because the proportion of these cells is close to zero causing the observations to bunch up. However, this is unlikely to overly affect the linear model fit and the parameter estimates. "
   ]
  },
  {
   "cell_type": "markdown",
   "id": "c86b775c",
   "metadata": {},
   "source": [
    "## Calculate the estimated decay rate and half-life for each macrophage subpopulation\n",
    "\n",
    "Using the values in the model fit summary table, calculate the estimated decay rates and half-lives.\n",
    "\n",
    "The linear model estimates the uncertainties in the decay rates - these are the standard errors and 95% CIs. Unfortunately, because half-life is the inverse of decay rate, uncertainty in half-life is not simple to calculate. So we won't do that here. \n",
    "\n",
    "> Hint: You may want to change the reference cell type in your linear model. This is so you can\n",
    ">\n",
    ">    1. get the correct standard errors for each macrophage subpopulation\n",
    ">    2. get the simplest description of which decay rates differ significantly from other decay rates "
   ]
  },
  {
   "cell_type": "code",
   "execution_count": null,
   "id": "eb1a7e2d",
   "metadata": {},
   "outputs": [],
   "source": []
  },
  {
   "cell_type": "code",
   "execution_count": null,
   "id": "2a1a647f",
   "metadata": {},
   "outputs": [],
   "source": []
  },
  {
   "cell_type": "code",
   "execution_count": null,
   "id": "be401208",
   "metadata": {},
   "outputs": [],
   "source": []
  },
  {
   "cell_type": "markdown",
   "id": "78bcf737",
   "metadata": {},
   "source": [
    "## Summarise your findings in words"
   ]
  },
  {
   "cell_type": "markdown",
   "id": "220e792d",
   "metadata": {},
   "source": []
  },
  {
   "cell_type": "markdown",
   "id": "c065e55d",
   "metadata": {},
   "source": [
    "# Decay rates and half-lives of macrophages in the large intestine\n",
    "\n",
    "Now do the same analysis for large intestine macrophages. The data are in the file `Data/yfp_LI.csv`."
   ]
  },
  {
   "cell_type": "code",
   "execution_count": null,
   "id": "6ab94838",
   "metadata": {},
   "outputs": [],
   "source": []
  },
  {
   "cell_type": "code",
   "execution_count": null,
   "id": "ea06a914",
   "metadata": {},
   "outputs": [],
   "source": []
  },
  {
   "cell_type": "code",
   "execution_count": null,
   "id": "a208b989",
   "metadata": {},
   "outputs": [],
   "source": []
  },
  {
   "cell_type": "code",
   "execution_count": null,
   "id": "c0db5653",
   "metadata": {},
   "outputs": [],
   "source": []
  },
  {
   "cell_type": "markdown",
   "id": "e7d4da58",
   "metadata": {},
   "source": [
    "> Summarise your findings"
   ]
  },
  {
   "cell_type": "markdown",
   "id": "daad9d57",
   "metadata": {},
   "source": [
    "# Does macrophage turnover occur at the same rate in the small and large intestine?\n",
    "\n",
    "The total proportion of macrophages expressing YFP in the small and large intestines over time are in the file `Data/yfp_both.csv`. The CD4- Tim4-, CD4+ Tim4- and CD4+ Tim4+ subpopulations have been pooled to give a total.\n",
    "\n",
    "Determine if the macrophage decay rates are significantly different between the small and large intestines."
   ]
  },
  {
   "cell_type": "code",
   "execution_count": null,
   "id": "0ac436f1",
   "metadata": {},
   "outputs": [],
   "source": []
  },
  {
   "cell_type": "markdown",
   "id": "24daa84f",
   "metadata": {},
   "source": [
    "There are four headers in the dataset:\n",
    "\n",
    "- **intestine**: small or large intestine\n",
    "- **week**: weeks post tamoxifen treatment\n",
    "- **mouse**: mouse ID\n",
    "- **yfp**: the proportion of macrophages expressing YFP"
   ]
  },
  {
   "cell_type": "code",
   "execution_count": null,
   "id": "c7436fbb",
   "metadata": {},
   "outputs": [],
   "source": []
  },
  {
   "cell_type": "code",
   "execution_count": null,
   "id": "b20db52e",
   "metadata": {},
   "outputs": [],
   "source": []
  },
  {
   "cell_type": "code",
   "execution_count": null,
   "id": "e770960c",
   "metadata": {},
   "outputs": [],
   "source": []
  },
  {
   "cell_type": "code",
   "execution_count": null,
   "metadata": {},
   "outputs": [],
   "source": []
  },
  {
   "cell_type": "markdown",
   "id": "1316f3eb",
   "metadata": {},
   "source": [
    "> Summarise your findings"
   ]
  },
  {
   "cell_type": "markdown",
   "id": "d5c7190c",
   "metadata": {},
   "source": [
    "---"
   ]
  },
  {
   "cell_type": "markdown",
   "id": "7079ff8f",
   "metadata": {},
   "source": [
    "# The maths of exponential decay (ignore if you want to)\n",
    "\n",
    "### Why a plot of $\\ln y$ against time $t$, is a straight line for exponential decay (and growth)\n",
    "\n",
    "Exponential decline is described by the equation\n",
    "\n",
    "$$y(t) = y_0 e^{-rt}$$\n",
    "\n",
    "Where, for example, $y(t)$ is the proportion of YFP+ macrophages at time $t$, $y_0$ is the proportion of YFP+ macrophages at time $t=0$, and $r$ is the decay rate. Taking natural logs ($\\ln=\\log_e$) on both sides and using the laws of logs to simplify:\n",
    "\n",
    "$$\n",
    "\\begin{align}\n",
    "\\ln y(t) &= \\ln\\left(y_0 e^{-rt}\\right) \\\\\n",
    "\\ln y(t) &= \\ln y_0 + \\ln e^{-rt} \\\\\n",
    "\\ln y(t) &= \\ln y_0 -rt \\ln e \\\\\n",
    "\\ln y(t) &= \\ln y_0 -rt \\\\\n",
    "\\end{align}\n",
    "$$\n",
    "\n",
    "Let's compare terms of this equation to the terms of an equation of a straight line\n",
    "\n",
    "$$Y=c+mX$$\n",
    "\n",
    "where $c$ is the *Y*-intercept (the value of $Y$ when $X=0$) and $m$ is the slope or gradient of the line. By comparing terms in this equation and equation (4), we can see that $Y=\\ln y(t)$, $c=\\ln y_0$, $m=-r$ and $X=t$.\n",
    "\n",
    "So if YFP+ macrophages decay exponentially, plotting the log of YFP+ proportion against time will result in a straight line. The $y$-intercept of this line will be the log of YFP+ proportion at time zero, and the gradient of this line will be the negative rate of decay, i.e., $-r$."
   ]
  },
  {
   "cell_type": "markdown",
   "id": "a5259161",
   "metadata": {},
   "source": [
    "### Why $\\frac{\\ln 2}{r}$ is half-life, $t_{1/2}$.\n",
    "\n",
    "Take the equation of exponential decay:\n",
    "\n",
    "$$y(t) = y_0 e^{-rt}$$\n",
    "\n",
    "Let $t_{1/2}$ be the time it takes the proportion of YFP+ macrophages to halve, that is\n",
    "\n",
    "$$\\frac{y(t+t_{1/2})}{y(t)} = \\frac{1}{2}$$\n",
    "\n",
    "Substituting the equation for exponential decay into this equation gives\n",
    "\n",
    "$$\\frac{y_0 e^{-r(t+t_{1/2})}}{y_0 e^{-rt}} = \\frac{1}{2}$$\n",
    "\n",
    "Cancelling factors gives\n",
    "\n",
    "$$e^{-rt_{1/2}} = \\frac{1}{2}$$\n",
    "\n",
    "Taking logs on both sides:\n",
    "\n",
    "$$-rt_{1/2} = -\\ln2$$\n",
    "\n",
    "Therefore,\n",
    "\n",
    "$$t_{1/2} = \\frac{\\ln2}{r}$$"
   ]
  }
 ],
 "metadata": {
  "kernelspec": {
   "display_name": "base",
   "language": "python",
   "name": "python3"
  },
  "language_info": {
   "codemirror_mode": {
    "name": "ipython",
    "version": 3
   },
   "file_extension": ".py",
   "mimetype": "text/x-python",
   "name": "python",
   "nbconvert_exporter": "python",
   "pygments_lexer": "ipython3",
   "version": "3.11.5"
  }
 },
 "nbformat": 4,
 "nbformat_minor": 5
}
