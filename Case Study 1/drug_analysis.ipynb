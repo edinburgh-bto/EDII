{
 "cells": [
  {
   "cell_type": "markdown",
   "id": "8f5e44b2",
   "metadata": {},
   "source": [
    "# Import some libraries\n",
    "\n",
    "To run a code cell, select it then press CTRL-return"
   ]
  },
  {
   "cell_type": "code",
   "execution_count": null,
   "id": "b6b50402",
   "metadata": {
    "notebookRunGroups": {
     "groupValue": "1"
    }
   },
   "outputs": [],
   "source": [
    "import pandas as pd\n",
    "import seaborn as sns\n",
    "import matplotlib.pyplot as plt\n",
    "from scipy.optimize import curve_fit\n",
    "from numpy import log, log10, sqrt, logspace"
   ]
  },
  {
   "cell_type": "markdown",
   "id": "4c7c8c0a",
   "metadata": {},
   "source": [
    "# Part I: Plot initial screening data of compounds to choose those for IC50 calculation"
   ]
  },
  {
   "cell_type": "markdown",
   "id": "55e01c00",
   "metadata": {},
   "source": [
    "## Read in the initial screening data"
   ]
  },
  {
   "cell_type": "markdown",
   "id": "667daff4",
   "metadata": {},
   "source": [
    "The code below reads in the screening data and prints it out.   \n",
    "The data are in long or tidy format where each column represents a single variable, and each row represents a single observation.  \n",
    "The variables are as follows:\n",
    "\n",
    "- **compound**: the names of the screened compounds and the controls\n",
    "- **Male gamete function**: assay recorded as a percentage\n",
    "\n",
    "There is also an index column running from 0 to 35 which can be ignored."
   ]
  },
  {
   "cell_type": "code",
   "execution_count": null,
   "id": "a1f72abb",
   "metadata": {},
   "outputs": [],
   "source": [
    "compounds = pd.read_excel('Data/compounds.xlsx')\n",
    "compounds"
   ]
  },
  {
   "cell_type": "markdown",
   "id": "1716863d",
   "metadata": {},
   "source": [
    "## Plot the data \n",
    "\n",
    "We want to plot the data to see what it looks like. We will use the seaborn module to do this as 1) you've used it before and 2) it makes nice plots with the minimal of code.\n",
    "\n",
    "There are different ways of plotting the data: bar plot, box plot, swarm plot, strip plot and violin plot. For example, to make a bar plot you would code\n",
    "\n",
    "```python\n",
    "sns.barplot(data=compounds, y='compound', x='Male gamete function');\n",
    "```\n",
    "which will plot the compounds and controls on the *y*-axis and horizontal bars representing the mean Male gamete function for each compound."
   ]
  },
  {
   "cell_type": "code",
   "execution_count": null,
   "id": "ef579b00",
   "metadata": {},
   "outputs": [],
   "source": [
    "# plot the data\n"
   ]
  },
  {
   "cell_type": "markdown",
   "id": "54ad8fee",
   "metadata": {},
   "source": [
    "You can combine different types of plots in the same figure by just coding the plots in the same code cell. For example, this code will plot bars and individual data points.\n",
    "\n",
    "```python\n",
    "sns.barplot(data=compounds, y='compound', x='Male gamete function')\n",
    "sns.stripplot(data=compounds, y='compound', x='Male gamete function');\n",
    "\n",
    "```\n",
    "Try different combinations to see which you think best summarises the data.\n",
    "\n",
    "If you want to explore how else seaborn can plot categorical data, visit the official [website](https://seaborn.pydata.org/tutorial/categorical.html \"Seaborn website\")."
   ]
  },
  {
   "cell_type": "code",
   "execution_count": null,
   "id": "102a64c5",
   "metadata": {},
   "outputs": [],
   "source": [
    "# make combinations of plots\n"
   ]
  },
  {
   "cell_type": "markdown",
   "id": "26fc1f42",
   "metadata": {},
   "source": [
    "### Based on your plot, which three compounds would you take forward for IC50 analysis?\n",
    "\n",
    "---"
   ]
  },
  {
   "cell_type": "markdown",
   "id": "c35ba313",
   "metadata": {},
   "source": [
    "# Part II: Estimating IC50 from dose-response curves "
   ]
  },
  {
   "cell_type": "markdown",
   "id": "4201e033",
   "metadata": {},
   "source": [
    "## Read in the data"
   ]
  },
  {
   "cell_type": "markdown",
   "id": "366a0750",
   "metadata": {},
   "source": [
    "The code below reads in the dose-response data and prints out the first 5 and last 5 rows.   \n",
    "The data are in long or tidy format.  \n",
    "The meaning of the column names are as follows:\n",
    "\n",
    "- **drug**: the names of the candidate drugs: HBX41108, NSC632839 and P22077\n",
    "- **replicate**: biological replicates 1 to 5 for each drug\n",
    "- **molarity**: drug dose (M)\n",
    "- **response**: male gamete function as a percentage "
   ]
  },
  {
   "cell_type": "code",
   "execution_count": null,
   "id": "7cf773ca",
   "metadata": {},
   "outputs": [],
   "source": [
    "assays = pd.read_excel('Data/drug_assays.xlsx')\n",
    "assays"
   ]
  },
  {
   "cell_type": "markdown",
   "id": "e2b73346",
   "metadata": {},
   "source": [
    "## Plot the dose-response curves"
   ]
  },
  {
   "cell_type": "markdown",
   "id": "0ea0875e",
   "metadata": {},
   "source": [
    "Next we plot the dose-response curves for each drug. Molarity is on the $x$-axis and response on the $y$-axis. To plot a curve for each drug we include `hue='drug'` in the plotting function.\n",
    "\n",
    "- `sns.scatterplot` plots the individual responses for each replicate for each drug \n",
    "- `sns.lineplot` plots a line representing the average for each drug \n",
    "\n",
    "A scatter plot is useful for checking that the raw data look okay. A lineplot is useful for summarising the data. "
   ]
  },
  {
   "cell_type": "code",
   "execution_count": null,
   "id": "e061c6db",
   "metadata": {},
   "outputs": [],
   "source": [
    "# A combination of line and scatter plots\n",
    "ax = sns.scatterplot(data=assays, x='molarity', y='response', hue='drug', legend=False)\n",
    "sns.lineplot(data=assays, x='molarity', y='response', hue='drug', err_style=None)\n",
    "\n",
    "# set the x-axis to a log scale because molarity varies across several orders of magnitude\n",
    "ax.set_xscale('log')\n",
    "\n",
    "# draw a horizontal line at 50%\n",
    "ax.axhline(50, linestyle=':');"
   ]
  },
  {
   "cell_type": "markdown",
   "id": "306ba2e5",
   "metadata": {},
   "source": [
    "## Estimate by eye the IC50s of the three drugs\n",
    "\n",
    "IC50 is the molarity at half-maximum, i.e., molarity when the response equals 50%. You are going to estimate these formally below using data-transformation and curve fitting procedures. But first, as always when working with data, it is useful to try and estimate things by eye. Why is it useful? Because it is a good sanity check that your formal procedures are giving you the answers you expect. It is also useful because it forces you think about and understand your data.\n",
    "\n",
    "Try and estimate by eye the IC50s of the three drugs. Don't worry if they are not precise - you just want ball-park numbers. Write your answers in the cell below."
   ]
  },
  {
   "cell_type": "markdown",
   "id": "231a087f",
   "metadata": {},
   "source": [
    "> IC50 estimates by eye for each drug"
   ]
  },
  {
   "cell_type": "markdown",
   "id": "0f8ca5af",
   "metadata": {},
   "source": [
    "## Log-transform the data\n",
    "\n",
    "As with most datasets, the raw data have to be transformed before it can be formally analysed.\n",
    "\n",
    "1. The drug concentrations vary over several orders of magnitude: from $10^{-9}$ M to $10^{-5}$ M. These must be transformed onto a log-scale so that the data points are evenly spaced along the $x$-axis as in the plot above. This is done by applying a log-transform.\n",
    "2. The response data need to be transformed from a percentage (0-100) to a proportion (0-1). This is simply done by dividing the response by 100.\n",
    "\n",
    "After transforming the data we should replot it."
   ]
  },
  {
   "cell_type": "code",
   "execution_count": null,
   "id": "e11033ca",
   "metadata": {},
   "outputs": [],
   "source": [
    "# tranform the raw data\n",
    "assays['log10_molarity'] = log10(assays['molarity'])\n",
    "assays['response_proportion'] = assays['response'] / 100\n",
    "\n",
    "# plot the transformed data\n",
    "ax = sns.scatterplot(data=assays, x='log10_molarity', y='response_proportion', hue='drug', legend=False)\n",
    "sns.lineplot(data=assays, x='log10_molarity', y='response_proportion', hue='drug', err_style=None);\n",
    "\n",
    "# draw a horizontal line at 0.5\n",
    "ax.axhline(0.5, linestyle=':');"
   ]
  },
  {
   "cell_type": "markdown",
   "id": "4c2ef42d",
   "metadata": {},
   "source": [
    "The plot should look almost the same as the one above, with two differences:\n",
    "1. The *y*-axis scale is from 0 to 1 rather than 0 to 100.\n",
    "2. The *x*-axis runs from -9 to -5 rather than from $10^{-9}$ to $10^{-5}$ because we have log-transformed molarity."
   ]
  },
  {
   "cell_type": "markdown",
   "id": "c0e6d0c9",
   "metadata": {},
   "source": [
    "## One more transformation\n",
    "\n",
    "There is one final transformation to make. Notice that log10_molarity is negative (-9 to -5). To fit a curve to this data (in order to estimate IC50) the *x*-axis values must be positive.\n",
    "\n",
    "We can simply add the value of 9 to the log10_molarity values to make all the values positive.\n",
    "\n",
    "This is done in the code cell below, and re replot to make sure the transformation has worked as intended."
   ]
  },
  {
   "cell_type": "code",
   "execution_count": null,
   "id": "08a35611",
   "metadata": {},
   "outputs": [],
   "source": [
    "# add 9 to log10 molarity to make all values positive\n",
    "assays['log10_molarity'] = log10(assays['molarity']) + 9\n",
    "\n",
    "# plot the transformed data\n",
    "ax = sns.scatterplot(data=assays, x='log10_molarity', y='response_proportion', hue='drug', legend=False)\n",
    "sns.lineplot(data=assays, x='log10_molarity', y='response_proportion', hue='drug', err_style=None);\n",
    "ax.set_xlabel('9 + log10(molarity)');"
   ]
  },
  {
   "cell_type": "markdown",
   "id": "782a4458",
   "metadata": {},
   "source": [
    "## Transformed dose-response curves are described by a Hill function\n",
    "\n",
    "Dose-response curves often have an S-shape (called a sigmoidal shape). The Hill function is the name of a curve that has such a shape. It's formula is\n",
    "\n",
    "$$y=\\frac{k^n}{k^n+x^n}$$\n",
    "\n",
    "([Desmos](https://www.desmos.com/calculator) is an excellent online curve-plotting app.)\n",
    "\n",
    "In this formula $x$ represents transformed molarity ($x=9+\\log_{10}(\\text{molarity})$) and $y$ represents the transformed response ($y=\\frac{\\text{response}}{100}$). \n",
    "\n",
    "The parameter $n$ is called the Hill coefficient. It determines how fast the curve falls. We are not interested in its value.\n",
    "\n",
    "The parameter $k$ is the value of $x$ at half-maximum (i.e., when $y=\\frac{1}{2}$). You can see this is so by substituting $x=k$ into the Hill function as follows:\n",
    "$$\n",
    "\\begin{align*}\n",
    "y &= \\frac{k^n}{k^n+k^n} \\\\\n",
    "y &= \\frac{k^n}{2k^n} \\\\\n",
    "y &= \\frac{1}{2}\n",
    "\\end{align*}\n",
    "$$\n",
    "\n",
    "In other words, when $x=k$, $y=\\frac{1}{2}$.\n",
    "\n",
    "\n",
    "We are interested in estimating the drug concentration when the response is half of its maximum. This concentration is called IC50. Therefore the parameter $k$ is the transformed IC50.\n",
    "\n",
    "What we will do below is fit the Hill function to the transformed data giving us an estimate of $k$. We then back-transform this value to find IC50. To find the back-transform formula remember that the transformed molarity $x$, is related to actual molarity by the formula\n",
    "\n",
    "$$x=9+\\log_{10}(\\text{molarity})$$\n",
    "Substituting in $x=k$ and $\\text{molarity}=\\text{IC50}$ we get\n",
    "$$k=9+\\log_{10}(\\text{IC50})$$\n",
    "Subtracting 9 from both sides:\n",
    "$$k-9=\\log_{10}(\\text{IC50})$$\n",
    "Raising to the power of 10 on both sides:\n",
    "$$10^{k-9}=10^{\\log_{10}(\\text{IC50})}$$\n",
    "Resulting in the back-transformation formula\n",
    "$$10^{k-9}=\\text{IC50}$$\n",
    "\n",
    "So to estimate IC50 for a drug, we fit the transformed data to a Hill function to estimate a value for $k$ and then substitute that value into the back-transformation formula to find IC50.\n",
    "\n",
    "\n",
    "First we have to code the Hill function. Run the code cell below. Although nothing will appear to happen, we have now defined the Hill function which we will use below to fit a Hill curve to the data."
   ]
  },
  {
   "cell_type": "code",
   "execution_count": null,
   "id": "b76df0a1",
   "metadata": {},
   "outputs": [],
   "source": [
    "def hill(x, k, n):\n",
    "    \"\"\" The hill function: n is the hill coefficient and x equals k at half-maximum\"\"\"\n",
    "    return k**n / (k**n + x**n)"
   ]
  },
  {
   "cell_type": "markdown",
   "id": "46785040",
   "metadata": {},
   "source": [
    "## Fit a Hill curve to the transformed data\n",
    "\n",
    "Then we have to fit the curve to the data. In the code below we fit it to drug P22077."
   ]
  },
  {
   "cell_type": "code",
   "execution_count": null,
   "id": "11c88cb7",
   "metadata": {},
   "outputs": [],
   "source": [
    "# HBX41108, NSC632839, P22077\n",
    "\n",
    "# extract one drug's data from the dataframe and save to a new dataframe called d\n",
    "d = assays.query('drug == \"P22077\"').copy()\n",
    "\n",
    "# use curve_fit to fit the hill function to the transformed data in dataframe d\n",
    "# the estimated parameters, k and n, are returned and stored in mu\n",
    "# the squares of the standard errors of k and n (ie the uncertainty in their estimates) are returned and stored in cov\n",
    "mu, cov = curve_fit(hill, d['log10_molarity'], d['response_proportion'])"
   ]
  },
  {
   "cell_type": "markdown",
   "id": "842af723",
   "metadata": {},
   "source": [
    "## Output the estimates of $k$ and IC50"
   ]
  },
  {
   "cell_type": "markdown",
   "id": "c868527d",
   "metadata": {},
   "source": [
    "The estimated values of $k$ and $n$ are stored in the variable `mu`. \n",
    "\n",
    "The code below prints them to two decimal places."
   ]
  },
  {
   "cell_type": "code",
   "execution_count": null,
   "id": "50b37760",
   "metadata": {},
   "outputs": [],
   "source": [
    "k = mu[0]\n",
    "n = mu[1]\n",
    "\n",
    "print(f'k = {k:.2f}')\n",
    "print(f'n = {n:.2f}')"
   ]
  },
  {
   "cell_type": "markdown",
   "id": "3583ebb5",
   "metadata": {},
   "source": [
    "Back-transform $k$ to find IC50, and print to two significant figures."
   ]
  },
  {
   "cell_type": "code",
   "execution_count": null,
   "id": "7010522a",
   "metadata": {},
   "outputs": [],
   "source": [
    "IC50 = 10**(k-9)\n",
    "print(f'IC50 = {IC50:.2g} M')"
   ]
  },
  {
   "cell_type": "markdown",
   "id": "59fce2a5",
   "metadata": {},
   "source": [
    "If you're not familiar with computer e-notation the symbol `e` in a number means \"times 10 to the power\". So `1e-5` means $1\\times 10^{-5}$ (i.e, one **times 10 to the power** -5).\n",
    "\n",
    "Let's convert IC50 to the more convenient micromolar scale by multiplying by $10^6$:"
   ]
  },
  {
   "cell_type": "code",
   "execution_count": null,
   "id": "b3172ee6",
   "metadata": {},
   "outputs": [],
   "source": [
    "print(f'IC50 = {IC50 * 1e6:.1f} μM')"
   ]
  },
  {
   "cell_type": "markdown",
   "id": "6a214b61",
   "metadata": {},
   "source": [
    "So the estimated IC50 for P22077 is 4.5 μM. \n",
    "\n",
    "Is this close to the value you estimated by eye?"
   ]
  },
  {
   "cell_type": "markdown",
   "id": "e068b7f9",
   "metadata": {},
   "source": [
    "## Calculate the uncertainty of the IC50 estimate (95% CI)\n",
    "\n",
    "Whenever we estimate something we should also provide an estimate of our uncertainty in its value.\n",
    "\n",
    "For that we use the second piece of information from the Hill function curve fit. The variable `cov` contains estimates of the uncertainties in the Hill function parameters $k$ and $n$. We're not interested in $n$ so we'll ignore this. The uncertainty in $k$ is stored in `cov[0][0]`.\n",
    "\n",
    "For convenience, in the code cell below, we store `cov[0][0]` in a variable called `v_k`."
   ]
  },
  {
   "cell_type": "code",
   "execution_count": null,
   "id": "7b7b61a9",
   "metadata": {},
   "outputs": [],
   "source": [
    "v_k = cov[0][0]\n",
    "v_k"
   ]
  },
  {
   "cell_type": "markdown",
   "id": "e7aaed42",
   "metadata": {},
   "source": [
    "The square-root of `v_k`, called the standard error (SE) of $k$, is a measure of the uncertainty in the estimate of $k$.\n",
    "\n",
    "Standard error is usually given the symbol $\\sigma$:\n",
    "\n",
    "$$\\sigma_k = \\sqrt {v_k}$$\n",
    "\n",
    "The uncertainty in the estimate of $k$ is reported in, usually, one of two ways:\n",
    "- Either the estimate ± standard error\n",
    "- Or the 95% confidence interval, which is the estimate ± 1.96 x standard error \n",
    "\n",
    "It doesn't matter which way you chose, as long as you report which one you used so that someone reading your conclusions know how to interpret your conclusions."
   ]
  },
  {
   "cell_type": "code",
   "execution_count": null,
   "id": "4cc6f437",
   "metadata": {},
   "outputs": [],
   "source": [
    "# the standard error of k\n",
    "sigma_k = sqrt(v_k)\n",
    "\n",
    "# the lower and upper bounds of the 95% CI of k\n",
    "k_lower = k - 1.96 * sigma_k\n",
    "k_upper = k + 1.96 * sigma_k\n",
    "\n",
    "print(f'estimate of k is {k:.2f} ± {sigma_k:.2f} (SE)')\n",
    "print(f'estimate of k is {k:.2f}, 95% CI = ({k_lower:.2f}, {k_upper:.2f})')"
   ]
  },
  {
   "cell_type": "markdown",
   "id": "aaeb4e03",
   "metadata": {},
   "source": [
    "The standard error in the IC50 estimate is given by the formula\n",
    "\n",
    "$$\\text{standard error of IC50} = \\text{IC50} \\times \\text{standard error of } k \\times \\log_e(10)$$\n",
    " \n",
    "Or, using symbols\n",
    "\n",
    "$$\\sigma_\\text{IC50} = \\text{IC50} \\times \\sigma_k \\times \\log_e(10)$$"
   ]
  },
  {
   "cell_type": "code",
   "execution_count": null,
   "id": "716584bc",
   "metadata": {},
   "outputs": [],
   "source": [
    "# the standard error of IC50\n",
    "sigma_IC50 = IC50 * sigma_k * log(10)\n",
    "\n",
    "# the lower and upper bounds of the 95% CI of IC50\n",
    "IC50_lower = IC50 - 1.96 * sigma_IC50\n",
    "IC50_upper = IC50 + 1.96 * sigma_IC50\n",
    "\n",
    "print(f'estimate of IC50 is {IC50:.2g} ± {sigma_IC50:.2g} M (SE)')\n",
    "print(f'estimate of IC50 is {IC50:.2g} M, 95% CI = ({IC50_lower:.2g}, {IC50_upper:.2g}) M')"
   ]
  },
  {
   "cell_type": "markdown",
   "id": "bd272891",
   "metadata": {},
   "source": [
    "Or on the micromolar scale"
   ]
  },
  {
   "cell_type": "code",
   "execution_count": null,
   "id": "2381ee11",
   "metadata": {},
   "outputs": [],
   "source": [
    "print(f'estimate of IC50 is {IC50*1e6:.1f} ± {sigma_IC50*1e6:.1f} μM (SE)')\n",
    "print(f'estimate of IC50 is {IC50*1e6:.1f} μM, 95% CI = ({IC50_lower*1e6:.1f}, {IC50_upper*1e6:.1f}) μM')"
   ]
  },
  {
   "cell_type": "markdown",
   "id": "cc91d9ce",
   "metadata": {},
   "source": [
    "## Plot the fitted curve with the data"
   ]
  },
  {
   "cell_type": "code",
   "execution_count": null,
   "id": "cd9222cd",
   "metadata": {},
   "outputs": [],
   "source": [
    "# intialise a new figure\n",
    "fig, ax = plt.subplots()\n",
    "\n",
    "# molarity varies from 1e-9 to 1e-4 (see first figure above)\n",
    "# create a list of 100 values evenly spaced from 1e-9 to 1e-4 on the log10 scale\n",
    "molarity = logspace(start=-9, stop=-4, num=100, base=10)\n",
    "\n",
    "# transformed molarity\n",
    "x = 9 + log10(molarity)\n",
    "\n",
    "# plot the fitted curve with molarity on a log scale\n",
    "ax.plot(molarity, hill(x, k, n))\n",
    "ax.set_xscale('log')\n",
    "\n",
    "# plot the data\n",
    "ax.scatter(data=d, x='molarity', y='response_proportion')\n",
    "\n",
    "# add some annotation\n",
    "ax.set_xlabel('Molarity (M)')\n",
    "ax.set_ylabel('Male gamete function')\n",
    "ax.set_title('Dose-response of P22077')\n",
    "\n",
    "# add a vertical band representing the 95% CI of IC50\n",
    "ax.axvspan(IC50_lower, IC50_upper, alpha=0.25)\n",
    "# add a dotted horizontal line at half-maximum (ie 0.5)\n",
    "ax.axhline(0.5, linestyle=':');"
   ]
  },
  {
   "cell_type": "markdown",
   "id": "bd5720fe",
   "metadata": {},
   "source": [
    "## Now it's your turn\n",
    "\n",
    "Now calculate IC50s with 95% CIs for the other two drugs, and plot their fits to the dose-response data."
   ]
  },
  {
   "cell_type": "markdown",
   "id": "1f8ba929",
   "metadata": {},
   "source": [
    "---"
   ]
  }
 ],
 "metadata": {
  "kernelspec": {
   "display_name": "base",
   "language": "python",
   "name": "python3"
  },
  "language_info": {
   "codemirror_mode": {
    "name": "ipython",
    "version": 3
   },
   "file_extension": ".py",
   "mimetype": "text/x-python",
   "name": "python",
   "nbconvert_exporter": "python",
   "pygments_lexer": "ipython3",
   "version": "3.11.5"
  }
 },
 "nbformat": 4,
 "nbformat_minor": 5
}
